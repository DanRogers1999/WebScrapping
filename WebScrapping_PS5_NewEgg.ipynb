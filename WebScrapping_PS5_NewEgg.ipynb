{
 "cells": [
  {
   "cell_type": "code",
   "execution_count": 1,
   "metadata": {},
   "outputs": [],
   "source": [
    "from bs4 import BeautifulSoup\n",
    "import requests\n",
    "import smtplib\n",
    "import time\n",
    "import datetime\n"
   ]
  },
  {
   "cell_type": "code",
   "execution_count": 94,
   "metadata": {
    "scrolled": true
   },
   "outputs": [
    {
     "name": "stdout",
     "output_type": "stream",
     "text": [
      "PlayStation PS5 Console\n",
      "704.89\n"
     ]
    }
   ],
   "source": [
    "#connect to website\n",
    "URL = 'https://www.newegg.com/p/N82E16868110294'\n",
    "headers = {\"User-Agent\": \"Mozilla/5.0 (Windows NT 10.0; Win64; x64; rv:107.0) Gecko/20100101 Firefox/107.0\"}\n",
    "#bring website information into code\n",
    "page = requests.get(URL, headers=headers)\n",
    "#Make website information into readable html\n",
    "page1 = BeautifulSoup(page.content, \"html.parser\")\n",
    "page1 = BeautifulSoup(page1.prettify(), \"html.parser\")\n",
    "\n",
    "\n",
    "\n",
    "\n",
    "#By inspecting the html from newegg, I was able to see that the class was h1 and the class name was product-title and I brought the text in\n",
    "title = page1.find('h1', \"product-title\").get_text()\n",
    "#The title had many extra whitespaces that I didn't want, so I just used this built in strip() function to remove whitespace\n",
    "title = title.strip()\n",
    "#I had to find the class for the current price \n",
    "price_soup = page1.find('li',\"price-current\")\n",
    "#Get the dollar value and convert it into a float\n",
    "dollar = price_soup.find('strong').get_text()\n",
    "dollar = float(dollar)\n",
    "#Get the cents value and convert that into a float as well\n",
    "cent = price_soup.find('sup').get_text()\n",
    "cent = float(cent)\n",
    "#combine dollar and cents to get the total current price\n",
    "price = dollar + cent\n",
    "\n",
    "print(title)\n",
    "print(price)\n"
   ]
  },
  {
   "cell_type": "code",
   "execution_count": 101,
   "metadata": {},
   "outputs": [
    {
     "name": "stdout",
     "output_type": "stream",
     "text": [
      "2022-12-02\n"
     ]
    }
   ],
   "source": [
    "today = datetime.date.today()\n",
    "print(today)"
   ]
  },
  {
   "cell_type": "code",
   "execution_count": 105,
   "metadata": {},
   "outputs": [],
   "source": [
    "import csv\n",
    "\n",
    "header= ['Title', 'Price', 'Date']\n",
    "data = [title, price, today]\n",
    "#Create csv file\n",
    "#DO NOT RUN AGAIN OR THE DATASET WILL BE DELETED\n",
    "#with open('newegg_PS5scrape.csv', 'w', newline='', encoding='UTF8') as f:\n",
    "#    writer = csv.writer(f)\n",
    "#    writer.writerow(header)\n",
    "#    writer.writerow(data)\n",
    "\n",
    "\n",
    "\n",
    "\n",
    "\n",
    "\n",
    "\n",
    "\n",
    "\n",
    "\n",
    "\n",
    "\n",
    "\n"
   ]
  },
  {
   "cell_type": "code",
   "execution_count": 123,
   "metadata": {},
   "outputs": [
    {
     "name": "stdout",
     "output_type": "stream",
     "text": [
      "                      Title   Price        Date\n",
      "0   PlayStation PS5 Console  704.89  2022-12-02\n",
      "1   PlayStation PS5 Console  704.89  2022-12-02\n",
      "2   PlayStation PS5 Console  704.89  2022-12-02\n",
      "3   PlayStation PS5 Console  704.89  2022-12-02\n",
      "4   PlayStation PS5 Console  704.89  2022-12-02\n",
      "5   PlayStation PS5 Console  704.89  2022-12-02\n",
      "6   PlayStation PS5 Console  704.89  2022-12-02\n",
      "7   PlayStation PS5 Console  704.89  2022-12-02\n",
      "8   PlayStation PS5 Console  704.89  2022-12-02\n",
      "9   PlayStation PS5 Console  704.89  2022-12-02\n",
      "10  PlayStation PS5 Console  704.89  2022-12-02\n",
      "11  PlayStation PS5 Console  704.89  2022-12-02\n"
     ]
    }
   ],
   "source": [
    "import pandas as pd\n",
    "#Read file without having to open it with excel or worry about getting an error while attempting to append new data\n",
    "df = pd.read_csv(r'C:\\Users\\darog\\newegg_PS5scrape.csv')\n",
    "print(df)"
   ]
  },
  {
   "cell_type": "code",
   "execution_count": 112,
   "metadata": {},
   "outputs": [],
   "source": [
    "#appending data to csv\n",
    "with open('newegg_PS5scrape.csv', 'a+', newline='', encoding='UTF8') as f:\n",
    "    writer = csv.writer(f)\n",
    "    writer.writerow(data)\n"
   ]
  },
  {
   "cell_type": "code",
   "execution_count": 116,
   "metadata": {},
   "outputs": [],
   "source": [
    "#Function for checking the price\n",
    "def check_price():\n",
    "    #pull all data like before\n",
    "    URL = 'https://www.newegg.com/p/N82E16868110294'\n",
    "    headers = {\"User-Agent\": \"Mozilla/5.0 (Windows NT 10.0; Win64; x64; rv:107.0) Gecko/20100101 Firefox/107.0\"}\n",
    "    page = requests.get(URL, headers=headers)\n",
    "    page1 = BeautifulSoup(page.content, \"html.parser\")\n",
    "    page1 = BeautifulSoup(page1.prettify(), \"html.parser\")\n",
    "    title = page1.find('h1', \"product-title\").get_text()\n",
    "    title = title.strip()\n",
    "    price_soup = page1.find('li',\"price-current\")\n",
    "    dollar = price_soup.find('strong').get_text()\n",
    "    dollar = float(dollar)\n",
    "    cent = price_soup.find('sup').get_text()\n",
    "    cent = float(cent)\n",
    "    price = dollar + cent\n",
    "    \n",
    "    import datetime\n",
    "    today = datetime.date.today()\n",
    "    \n",
    "    import csv\n",
    "    header= ['Title', 'Price', 'Date']\n",
    "    data = [title, price, today]\n",
    "    \n",
    "    with open('newegg_PS5scrape.csv', 'a+', newline='', encoding='UTF8') as f:\n",
    "        writer = csv.writer(f)\n",
    "        writer.writerow(data)\n",
    "        \n",
    "        \n",
    "        \n",
    "        \n",
    "check_price()\n",
    "    \n",
    "    \n",
    "    \n",
    "    \n",
    "    \n",
    "    \n",
    "    \n",
    "    \n",
    "    "
   ]
  },
  {
   "cell_type": "code",
   "execution_count": null,
   "metadata": {},
   "outputs": [],
   "source": [
    "#This puts the price cheking function on a one day timer\n",
    "while(True):\n",
    "    check_price()\n",
    "    time.sleep(86400)"
   ]
  },
  {
   "cell_type": "code",
   "execution_count": 4,
   "metadata": {},
   "outputs": [
    {
     "name": "stdout",
     "output_type": "stream",
     "text": [
      "                      Title   Price        Date\n",
      "0   PlayStation PS5 Console  704.89  2022-12-02\n",
      "1   PlayStation PS5 Console  704.89  2022-12-02\n",
      "2   PlayStation PS5 Console  704.89  2022-12-02\n",
      "3   PlayStation PS5 Console  704.89  2022-12-02\n",
      "4   PlayStation PS5 Console  704.89  2022-12-02\n",
      "5   PlayStation PS5 Console  704.89  2022-12-02\n",
      "6   PlayStation PS5 Console  704.89  2022-12-02\n",
      "7   PlayStation PS5 Console  704.89  2022-12-02\n",
      "8   PlayStation PS5 Console  704.89  2022-12-02\n",
      "9   PlayStation PS5 Console  704.89  2022-12-02\n",
      "10  PlayStation PS5 Console  704.89  2022-12-02\n",
      "11  PlayStation PS5 Console  704.89  2022-12-02\n",
      "12  PlayStation PS5 Console  704.89  2022-12-02\n"
     ]
    }
   ],
   "source": [
    "import pandas as pd\n",
    "#Read file without having to open it with excel or worry about getting an error while attempting to append new data\n",
    "df = pd.read_csv(r'C:\\Users\\darog\\newegg_PS5scrape.csv')\n",
    "print(df)"
   ]
  },
  {
   "cell_type": "code",
   "execution_count": null,
   "metadata": {},
   "outputs": [],
   "source": []
  }
 ],
 "metadata": {
  "kernelspec": {
   "display_name": "Python 3",
   "language": "python",
   "name": "python3"
  },
  "language_info": {
   "codemirror_mode": {
    "name": "ipython",
    "version": 3
   },
   "file_extension": ".py",
   "mimetype": "text/x-python",
   "name": "python",
   "nbconvert_exporter": "python",
   "pygments_lexer": "ipython3",
   "version": "3.7.6"
  }
 },
 "nbformat": 4,
 "nbformat_minor": 4
}
